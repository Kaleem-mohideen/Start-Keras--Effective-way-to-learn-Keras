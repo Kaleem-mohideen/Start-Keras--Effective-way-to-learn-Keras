{
 "cells": [
  {
   "cell_type": "markdown",
   "metadata": {},
   "source": [
    "# Keras - A layer over TensorFlow"
   ]
  },
  {
   "cell_type": "code",
   "execution_count": 1,
   "metadata": {},
   "outputs": [
    {
     "name": "stderr",
     "output_type": "stream",
     "text": [
      "Using TensorFlow backend.\n"
     ]
    }
   ],
   "source": [
    "from keras.models import Sequential\n",
    "from keras.layers import Dense"
   ]
  },
  {
   "cell_type": "markdown",
   "metadata": {},
   "source": [
    "## 1. Keras Model"
   ]
  },
  {
   "cell_type": "code",
   "execution_count": 2,
   "metadata": {},
   "outputs": [],
   "source": [
    "# Creating a Model\n",
    "model = Sequential()"
   ]
  },
  {
   "cell_type": "markdown",
   "metadata": {},
   "source": [
    "## 2. Defining Layers\n",
    " Arguments\n",
    "  1. units -Mandatory to provide how many units in each layer\n",
    "  2. activation( relu or sigmoid or softmax..)-if not provided then it takes only identity calculations on weights\n",
    "  3. Input dimensions(no. of units) for first(input) layer should have to known earlier"
   ]
  },
  {
   "cell_type": "code",
   "execution_count": 3,
   "metadata": {
    "collapsed": true
   },
   "outputs": [],
   "source": [
    "# The default Neural Network Layer is called Dense layer\n",
    "layer1 = Dense(units=32, activation = 'relu', input_dim = 30)\n",
    "model.add(layer1)\n",
    "model.add(Dense(units=16, activation = 'relu'))\n",
    "model.add(Dense(units=1, activation = 'sigmoid'))"
   ]
  },
  {
   "cell_type": "markdown",
   "metadata": {},
   "source": [
    "## 3. Compiling\n",
    " Arguments\n",
    "  1. which optimizer to use (Adam or Sigmoid....)\n",
    "  2. which loss function to use ( Mean Square error or Cross Entropy loss)\n",
    "  3. which metrics to print while running fit function\n",
    "     \n",
    " Its most important to provide correct optimizer, loss function and metric to print.\n",
    "     \n",
    " Note: You can lookout the documention for rest of the arguments which in this case not much important."
   ]
  },
  {
   "cell_type": "code",
   "execution_count": 4,
   "metadata": {},
   "outputs": [],
   "source": [
    "model.compile(optimizer='adam', loss='binary_crossentropy', metrics=['accuracy'])"
   ]
  },
  {
   "cell_type": "code",
   "execution_count": 5,
   "metadata": {},
   "outputs": [],
   "source": [
    "from sklearn import datasets\n",
    "cancer = datasets.load_breast_cancer()\n",
    "from sklearn.model_selection import train_test_split\n",
    "\n",
    "x_train, x_test, y_train, y_test = train_test_split(cancer.data, cancer.target, test_size = 0.2, random_state = 0)\n",
    "\n",
    "from sklearn.preprocessing import StandardScaler\n",
    "\n",
    "sc = StandardScaler()\n",
    "x_train = sc.fit_transform(x_train)\n",
    "x_test = sc.transform(x_test)"
   ]
  },
  {
   "cell_type": "markdown",
   "metadata": {},
   "source": [
    "## 4. Fitting training data- Keras\n",
    " Arguments\n",
    " 1. x,y - to train\n",
    " 2. Epochs - no. of iterations on whole data\n",
    " 3. Batch_size - default is 32 -batch gradient descent\n",
    " 4. validation data - for evaluation on data that is provided as argument of validation_data"
   ]
  },
  {
   "cell_type": "code",
   "execution_count": 6,
   "metadata": {},
   "outputs": [
    {
     "name": "stdout",
     "output_type": "stream",
     "text": [
      "Train on 455 samples, validate on 114 samples\n",
      "Epoch 1/20\n",
      "455/455 [==============================] - 1s 2ms/step - loss: 0.6397 - accuracy: 0.6857 - val_loss: 0.5742 - val_accuracy: 0.7544\n",
      "Epoch 2/20\n",
      "455/455 [==============================] - 0s 132us/step - loss: 0.4980 - accuracy: 0.9033 - val_loss: 0.4501 - val_accuracy: 0.9035\n",
      "Epoch 3/20\n",
      "455/455 [==============================] - 0s 66us/step - loss: 0.3896 - accuracy: 0.9385 - val_loss: 0.3599 - val_accuracy: 0.9298\n",
      "Epoch 4/20\n",
      "455/455 [==============================] - 0s 109us/step - loss: 0.3048 - accuracy: 0.9495 - val_loss: 0.2964 - val_accuracy: 0.9298\n",
      "Epoch 5/20\n",
      "455/455 [==============================] - 0s 77us/step - loss: 0.2438 - accuracy: 0.9516 - val_loss: 0.2535 - val_accuracy: 0.9386\n",
      "Epoch 6/20\n",
      "455/455 [==============================] - 0s 143us/step - loss: 0.2011 - accuracy: 0.9560 - val_loss: 0.2245 - val_accuracy: 0.9386\n",
      "Epoch 7/20\n",
      "455/455 [==============================] - 0s 98us/step - loss: 0.1703 - accuracy: 0.9560 - val_loss: 0.2036 - val_accuracy: 0.9298\n",
      "Epoch 8/20\n",
      "455/455 [==============================] - 0s 83us/step - loss: 0.1484 - accuracy: 0.9582 - val_loss: 0.1877 - val_accuracy: 0.9298\n",
      "Epoch 9/20\n",
      "455/455 [==============================] - 0s 129us/step - loss: 0.1321 - accuracy: 0.9670 - val_loss: 0.1747 - val_accuracy: 0.9298\n",
      "Epoch 10/20\n",
      "455/455 [==============================] - 0s 131us/step - loss: 0.1198 - accuracy: 0.9648 - val_loss: 0.1659 - val_accuracy: 0.9386\n",
      "Epoch 11/20\n",
      "455/455 [==============================] - 0s 177us/step - loss: 0.1095 - accuracy: 0.9648 - val_loss: 0.1580 - val_accuracy: 0.9386\n",
      "Epoch 12/20\n",
      "455/455 [==============================] - 0s 154us/step - loss: 0.1014 - accuracy: 0.9670 - val_loss: 0.1508 - val_accuracy: 0.9474\n",
      "Epoch 13/20\n",
      "455/455 [==============================] - 0s 104us/step - loss: 0.0945 - accuracy: 0.9714 - val_loss: 0.1444 - val_accuracy: 0.9474\n",
      "Epoch 14/20\n",
      "455/455 [==============================] - 0s 95us/step - loss: 0.0886 - accuracy: 0.9736 - val_loss: 0.1380 - val_accuracy: 0.9649\n",
      "Epoch 15/20\n",
      "455/455 [==============================] - 0s 102us/step - loss: 0.0834 - accuracy: 0.9780 - val_loss: 0.1332 - val_accuracy: 0.9737\n",
      "Epoch 16/20\n",
      "455/455 [==============================] - 0s 162us/step - loss: 0.0788 - accuracy: 0.9780 - val_loss: 0.1284 - val_accuracy: 0.9737\n",
      "Epoch 17/20\n",
      "455/455 [==============================] - 0s 113us/step - loss: 0.0748 - accuracy: 0.9780 - val_loss: 0.1247 - val_accuracy: 0.9737\n",
      "Epoch 18/20\n",
      "455/455 [==============================] - 0s 154us/step - loss: 0.0716 - accuracy: 0.9802 - val_loss: 0.1217 - val_accuracy: 0.9737\n",
      "Epoch 19/20\n",
      "455/455 [==============================] - 0s 221us/step - loss: 0.0687 - accuracy: 0.9824 - val_loss: 0.1193 - val_accuracy: 0.9737\n",
      "Epoch 20/20\n",
      "455/455 [==============================] - 0s 288us/step - loss: 0.0659 - accuracy: 0.9824 - val_loss: 0.1175 - val_accuracy: 0.9737\n"
     ]
    },
    {
     "data": {
      "text/plain": [
       "<keras.callbacks.callbacks.History at 0x7f8ef73fe0d0>"
      ]
     },
     "execution_count": 6,
     "metadata": {},
     "output_type": "execute_result"
    }
   ],
   "source": [
    "model.fit(x_train, y_train, epochs=20, batch_size = 50, validation_data=(x_test, y_test))"
   ]
  },
  {
   "cell_type": "markdown",
   "metadata": {},
   "source": [
    "## 5. Evaluation and Predictions"
   ]
  },
  {
   "cell_type": "code",
   "execution_count": 7,
   "metadata": {},
   "outputs": [
    {
     "data": {
      "text/plain": [
       "array([[1.2190860e-02],\n",
       "       [9.8375583e-01],\n",
       "       [9.9773455e-01],\n",
       "       [9.8696113e-01],\n",
       "       [9.9857378e-01],\n",
       "       [9.9478006e-01],\n",
       "       [9.9192739e-01],\n",
       "       [9.9796069e-01],\n",
       "       [9.9992299e-01],\n",
       "       [9.9992204e-01],\n",
       "       [5.5349922e-01],\n",
       "       [9.1412669e-01],\n",
       "       [9.9968779e-01],\n",
       "       [5.4310066e-01],\n",
       "       [5.6725061e-01],\n",
       "       [2.1033611e-02],\n",
       "       [9.8986232e-01],\n",
       "       [4.9909456e-03],\n",
       "       [2.2622580e-03],\n",
       "       [5.1300976e-05],\n",
       "       [7.5370008e-03],\n",
       "       [1.5214855e-02],\n",
       "       [9.8593706e-01],\n",
       "       [9.9675864e-01],\n",
       "       [2.0991627e-03],\n",
       "       [9.9883038e-01],\n",
       "       [9.9983358e-01],\n",
       "       [4.8845503e-03],\n",
       "       [9.9785751e-01],\n",
       "       [9.5618598e-04],\n",
       "       [9.9983585e-01],\n",
       "       [7.9377759e-03],\n",
       "       [8.3058798e-01],\n",
       "       [2.9203657e-02],\n",
       "       [9.9999070e-01],\n",
       "       [3.7386749e-02],\n",
       "       [9.8169345e-01],\n",
       "       [2.9225510e-02],\n",
       "       [9.8962116e-01],\n",
       "       [7.1954265e-02],\n",
       "       [2.9938039e-01],\n",
       "       [9.9940419e-01],\n",
       "       [2.0618825e-01],\n",
       "       [9.9987912e-01],\n",
       "       [8.5008979e-01],\n",
       "       [7.6124838e-05],\n",
       "       [9.9999380e-01],\n",
       "       [9.8071152e-01],\n",
       "       [9.9888664e-01],\n",
       "       [1.1223413e-03],\n",
       "       [3.9909992e-04],\n",
       "       [5.8715634e-02],\n",
       "       [1.7375534e-02],\n",
       "       [9.9611831e-01],\n",
       "       [9.8455018e-01],\n",
       "       [9.9907339e-01],\n",
       "       [9.9885190e-01],\n",
       "       [9.9558085e-01],\n",
       "       [9.9382764e-01],\n",
       "       [9.5531905e-05],\n",
       "       [4.9632933e-02],\n",
       "       [5.4820035e-02],\n",
       "       [9.9935311e-01],\n",
       "       [9.9458176e-01],\n",
       "       [2.9734671e-03],\n",
       "       [9.4135815e-01],\n",
       "       [5.1415256e-08],\n",
       "       [4.5664217e-03],\n",
       "       [6.9666863e-04],\n",
       "       [9.9849284e-01],\n",
       "       [6.3067245e-01],\n",
       "       [1.1598135e-03],\n",
       "       [9.9677366e-01],\n",
       "       [3.4890488e-01],\n",
       "       [2.9051185e-04],\n",
       "       [9.9020875e-01],\n",
       "       [9.9980778e-01],\n",
       "       [9.2779231e-01],\n",
       "       [9.9955362e-01],\n",
       "       [9.9998021e-01],\n",
       "       [1.4526160e-01],\n",
       "       [8.2545608e-07],\n",
       "       [9.0703362e-04],\n",
       "       [9.9928975e-01],\n",
       "       [3.4603830e-02],\n",
       "       [9.9869400e-01],\n",
       "       [9.9983227e-01],\n",
       "       [9.9993765e-01],\n",
       "       [1.1681576e-02],\n",
       "       [5.6750474e-07],\n",
       "       [9.9987078e-01],\n",
       "       [4.5438236e-01],\n",
       "       [3.6864218e-01],\n",
       "       [1.6659178e-04],\n",
       "       [9.9913186e-01],\n",
       "       [9.9615818e-01],\n",
       "       [3.5792770e-04],\n",
       "       [9.5157778e-01],\n",
       "       [9.8836863e-01],\n",
       "       [9.9576521e-01],\n",
       "       [9.9999940e-01],\n",
       "       [9.9625325e-01],\n",
       "       [9.9258727e-01],\n",
       "       [8.1805933e-01],\n",
       "       [2.8025003e-03],\n",
       "       [9.9812263e-01],\n",
       "       [1.5393668e-04],\n",
       "       [7.9733258e-01],\n",
       "       [7.0782143e-01],\n",
       "       [9.9466962e-01],\n",
       "       [9.8727405e-01],\n",
       "       [9.6948916e-04],\n",
       "       [6.5885633e-03],\n",
       "       [8.7261301e-01]], dtype=float32)"
      ]
     },
     "execution_count": 7,
     "metadata": {},
     "output_type": "execute_result"
    }
   ],
   "source": [
    "predictions = model.predict(x_test)\n",
    "predictions"
   ]
  },
  {
   "cell_type": "code",
   "execution_count": 8,
   "metadata": {},
   "outputs": [
    {
     "name": "stdout",
     "output_type": "stream",
     "text": [
      "114/114 [==============================] - 0s 233us/step\n"
     ]
    },
    {
     "data": {
      "text/plain": [
       "[0.11752505522025258, 0.9736841917037964]"
      ]
     },
     "execution_count": 8,
     "metadata": {},
     "output_type": "execute_result"
    }
   ],
   "source": [
    "score = model.evaluate(x_test, y_test)\n",
    "score"
   ]
  }
 ],
 "metadata": {
  "kernelspec": {
   "display_name": "Python 3",
   "language": "python",
   "name": "python3"
  },
  "language_info": {
   "codemirror_mode": {
    "name": "ipython",
    "version": 3
   },
   "file_extension": ".py",
   "mimetype": "text/x-python",
   "name": "python",
   "nbconvert_exporter": "python",
   "pygments_lexer": "ipython3",
   "version": "3.7.6"
  }
 },
 "nbformat": 4,
 "nbformat_minor": 2
}
